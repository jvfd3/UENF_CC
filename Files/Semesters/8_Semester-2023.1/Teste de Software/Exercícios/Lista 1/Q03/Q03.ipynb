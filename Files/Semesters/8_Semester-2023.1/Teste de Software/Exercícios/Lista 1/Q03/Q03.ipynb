{
 "cells": [
  {
   "cell_type": "code",
   "execution_count": null,
   "metadata": {},
   "outputs": [],
   "source": [
    "\"\"\"\n",
    "3. Faca um programa que calcule a area de uma figura geometrica. Aceite quatro tipos de figura geometrica: quadrado, retangulo, triangulo e circulo. Use heranca e polimorfismo.\n",
    "\"\"\""
   ]
  },
  {
   "cell_type": "code",
   "execution_count": null,
   "metadata": {},
   "outputs": [],
   "source": []
  }
 ],
 "metadata": {
  "language_info": {
   "name": "python"
  },
  "orig_nbformat": 4
 },
 "nbformat": 4,
 "nbformat_minor": 2
}
